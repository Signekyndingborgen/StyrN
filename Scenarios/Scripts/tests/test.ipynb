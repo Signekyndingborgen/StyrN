{
 "cells": [
  {
   "cell_type": "code",
   "execution_count": 3,
   "metadata": {},
   "outputs": [],
   "source": [
    "import sys\n",
    "import pandas as pd\n",
    "import os\n",
    "sys.path.append(r'../../pydaisy/')\n",
    "from pydaisy.Daisy import DaisyDlf, DaisyModel, run_sub_folders\n",
    "import matplotlib.pyplot as plt\n",
    "import numpy as np \n",
    "import datetime as datetime\n",
    "sys.path.append(r'..\\..\\..\\.')\n",
    "\n",
    "from pydaisy.Daisy import *"
   ]
  },
  {
   "cell_type": "code",
   "execution_count": 8,
   "metadata": {},
   "outputs": [
    {
     "data": {
      "text/plain": [
       "(11, 17)"
      ]
     },
     "execution_count": 8,
     "metadata": {},
     "output_type": "execute_result"
    }
   ],
   "source": [
    "# Import excel w scenario information\n",
    "# the crop rotations\n",
    "rota = pd.read_excel('masterinput_short.xlsx', sheet= 'Rotations')\n",
    "# import the crops: daisynames, plowing, sowing and harvest dates\n",
    "crops = pd.read_excel('masterinput_short.xlsx', sheet = 'Crops')\n",
    "# import the manure IDs, amounts, and types\n",
    "manure = pd.read_excel('masterinput_short.xlsx', sheet = 'Manure')\n",
    "# import table with file names for weather data, soil data, initialization file, initial SOC content\n",
    "conditions = pd.read_excel('masterinput_short.xlsx', sheet = 'soil_climate_more')\n",
    "len(rota)\n",
    "rota.shape\n"
   ]
  },
  {
   "cell_type": "code",
   "execution_count": null,
   "metadata": {},
   "outputs": [],
   "source": [
    "\n",
    "path=r'../RunDaisy2.4'\n",
    "\n",
    "if __name__ =='__main__':\n",
    "\n",
    "\n",
    "template = DaisyModel('Scenarier_v1.dai'))\n",
    "i=0\n",
    "    \n",
    "newfile= template.copy()    \n",
    "block = newfile.Input['defaction'][1]\n",
    "        \n",
    "for i in range(0, len(rota)):\n",
    "    block.Children.append(DaisyEntry('sow', [str(rota[1:,1:][i])]))\n",
    "#    block.Children.append(DaisyEntry('wait_mm_dd', [str(crops['date'][i].month), str(df['date'][i].day)]))"
   ]
  },
  {
   "cell_type": "code",
   "execution_count": null,
   "metadata": {},
   "outputs": [],
   "source": [
    "\n",
    "for i in range(0,len()):\n",
    "    block.Children.append(DaisyEntry('wait_mm_dd', [str(df['date'][i].month), str(df['date'][i].day)]))\n",
    "        \n",
    "    if rota[2:,1:][i]=='sow':\n",
    "        for crop in df['what'][i].split(','):\n",
    "                sow = DaisyEntry('sow', ['\"' + crop.strip() +'\"'])\n",
    "                block.Children.append(sow)  \n",
    "\n",
    "    for i in range(0,len(df)): #for hver jord\n",
    "        for i in range(0,len(df)): #for hver konventionel\n",
    "            for hvert år\n",
    "    \n",
    "                sow\n",
    "                if(øko)\n",
    "                    kløvergræs\n",
    "        for i in range(0,len(df)): #for hver øko\n",
    "            så kløver græs\n",
    "            gødning\n",
    "        harvest\n"
   ]
  }
 ],
 "metadata": {
  "kernelspec": {
   "display_name": "Python 3",
   "language": "python",
   "name": "python3"
  },
  "language_info": {
   "codemirror_mode": {
    "name": "ipython",
    "version": 3
   },
   "file_extension": ".py",
   "mimetype": "text/x-python",
   "name": "python",
   "nbconvert_exporter": "python",
   "pygments_lexer": "ipython3",
   "version": "3.7.0"
  }
 },
 "nbformat": 4,
 "nbformat_minor": 2
}
