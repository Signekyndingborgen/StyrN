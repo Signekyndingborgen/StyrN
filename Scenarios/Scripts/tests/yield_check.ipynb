{
 "cells": [
  {
   "cell_type": "code",
   "execution_count": 22,
   "metadata": {},
   "outputs": [],
   "source": [
    "# -*- coding: utf-8 -*-\n",
    "\"\"\"\n",
    "Created on Thu Feb 28 11:25:14 2019\n",
    "\n",
    "@author: tqc268\n",
    "\"\"\"\n",
    "\n",
    "import sys\n",
    "import pandas as pd\n",
    "import os\n",
    "sys.path.append(r'../../../pydaisy')\n",
    "\n",
    "from pydaisy.Daisy import DaisyDlf, DaisyModel\n",
    "import matplotlib.pyplot as plt\n",
    "import numpy as np \n",
    "import datetime as datetime\n",
    "sys.path.append(r'..\\..\\..\\.')\n",
    "\n",
    "from pydaisy.Daisy import *\n",
    "\n",
    "rota = pd.DataFrame(pd.read_excel('../common/masterinput_v2.xlsx',sheet_name= 'Rotations'))\n",
    "rota.index = rota['ID']\n",
    "\n",
    "crops = pd.read_excel('../common/masterinput_v2.xlsx',sheet_name= 'Crops')\n",
    "crops.index = crops['Crop']\n",
    "\n",
    "\n",
    "for i in range(3, 6):\n",
    "    rotation=rota.columns[i]\n",
    "        #find rotation length\n",
    "    maxnumberyear = 6\n",
    "    while pd.isna(rota[rotation][maxnumberyear]):\n",
    "        maxnumberyear-=1\n",
    "\n",
    "\n",
    "    #Make a list with all cropIDs. We need this in the fertilize calc\n",
    "    AllCropIDs = []\n",
    "    for year in range(1, maxnumberyear+1): \n",
    "        cropname = rota[rotation][year].strip()\n",
    "        crop_ID = int(crops['afgkode1'][cropname])\n",
    "        AllCropIDs.append(crop_ID)\n"
   ]
  },
  {
   "cell_type": "code",
   "execution_count": null,
   "metadata": {},
   "outputs": [],
   "source": [
    "\n",
    "\n",
    "\n",
    "output ='DM'\n",
    "harvest=DaisyDlf(r'../RunK/K4_230_True/DailyP-harvest.dlf')\n",
    "df=harvest.Data\n",
    "# summere og plot af udbytte i tørstof DM       \n",
    "\n",
    "harvestname = crops['Daisynavn1'][cropname]\n",
    "\n",
    "for hname in harvestnames:\n",
    "      \n",
    "    if harvest == 'Silomajs' or harvestname == 'Kløvergræs':\n",
    "        harv = df[['crop', 'leaf_'+output, 'stem_'+output,'sorg_'+output]]\n",
    "    else:\n",
    "        harv = df[['crop', 'sorg_'+output]]\n",
    "\n",
    "        yield_crop = harv.groupby('crop')\n",
    "\n",
    "        yields = yield_crop.get_group(harvestname).sum(axis=1)\n",
    "\n",
    "print(cereal)\n",
    "print(grass)\n",
    "\n",
    "#outpu = 'DM'\n",
    "#rg=extract(Ryegrass, DailyP-harvest.dlf, output)\n",
    "\n",
    "#rg=extract(crop_name='Ryegrass', os.path.join(root, d, \"DailyP-harvest.dlf\"), output)"
   ]
  },
  {
   "cell_type": "code",
   "execution_count": null,
   "metadata": {},
   "outputs": [],
   "source": [
    "\n",
    "\n",
    "def extract(crop_name, filnavn, output): # output altid være N?\n",
    "    harvest=DaisyDlf(filnavn)\n",
    "    df=harvest.Data\n",
    "    # summere og plot af udbytte i tørstof DM       \n",
    "    harv_grain = df[['crop', 'sorg_'+output]]\n",
    "    harv_grass = df[['crop', 'leaf_'+output, 'stem_'+output,'sorg_'+output]]\n",
    "    grain =harv_grain.groupby('crop')\n",
    "    cereal = grain.get_group(crop_name).sum(axis=1)\n",
    "    return(cereal)\n"
   ]
  },
  {
   "cell_type": "code",
   "execution_count": 23,
   "metadata": {},
   "outputs": [
    {
     "ename": "SyntaxError",
     "evalue": "positional argument follows keyword argument (<ipython-input-23-c52031b2993f>, line 4)",
     "output_type": "error",
     "traceback": [
      "\u001b[1;36m  File \u001b[1;32m\"<ipython-input-23-c52031b2993f>\"\u001b[1;36m, line \u001b[1;32m4\u001b[0m\n\u001b[1;33m    rg=extract(crop_name='Ryegrass', 'r../RunK/K4_230_True/DailyP-harvest.dlf', output)\u001b[0m\n\u001b[1;37m                                    ^\u001b[0m\n\u001b[1;31mSyntaxError\u001b[0m\u001b[1;31m:\u001b[0m positional argument follows keyword argument\n"
     ]
    }
   ],
   "source": [
    "crop_name= Ryegrass\n",
    "output = 'DM'\n",
    "\n",
    "rg=extract(crop_name='Ryegrass', 'r../RunK/K4_230_True/DailyP-harvest.dlf', output)"
   ]
  }
 ],
 "metadata": {
  "kernelspec": {
   "display_name": "Python 3",
   "language": "python",
   "name": "python3"
  },
  "language_info": {
   "codemirror_mode": {
    "name": "ipython",
    "version": 3
   },
   "file_extension": ".py",
   "mimetype": "text/x-python",
   "name": "python",
   "nbconvert_exporter": "python",
   "pygments_lexer": "ipython3",
   "version": "3.7.0"
  }
 },
 "nbformat": 4,
 "nbformat_minor": 2
}
