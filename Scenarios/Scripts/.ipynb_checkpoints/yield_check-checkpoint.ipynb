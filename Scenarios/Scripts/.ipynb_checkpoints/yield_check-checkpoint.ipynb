{
 "cells": [
  {
   "cell_type": "code",
   "execution_count": 16,
   "metadata": {},
   "outputs": [
    {
     "name": "stdout",
     "output_type": "stream",
     "text": [
      "1995-06-01    0.00000\n",
      "1999-08-10    6.13397\n",
      "dtype: float64\n",
      "1995-07-01    0.130644\n",
      "1995-08-01    0.144037\n",
      "1995-09-25    0.394948\n",
      "1996-06-05    0.497838\n",
      "1996-07-15    0.379993\n",
      "1996-08-20    0.199452\n",
      "1996-09-25    0.225855\n",
      "1997-06-05    1.575140\n",
      "1997-07-15    4.164860\n",
      "1997-08-20    0.981496\n",
      "1997-09-25    1.735187\n",
      "1998-06-05    3.739202\n",
      "1998-07-15    1.616562\n",
      "1998-08-20    2.651889\n",
      "1998-09-25    0.650550\n",
      "dtype: float64\n"
     ]
    }
   ],
   "source": [
    "# -*- coding: utf-8 -*-\n",
    "\"\"\"\n",
    "Created on Thu Feb 28 11:25:14 2019\n",
    "\n",
    "@author: tqc268\n",
    "\"\"\"\n",
    "\n",
    "import sys\n",
    "import pandas as pd\n",
    "import os\n",
    "sys.path.append(r'../../../pydaisy')\n",
    "\n",
    "from pydaisy.Daisy import DaisyDlf, DaisyModel\n",
    "import matplotlib.pyplot as plt\n",
    "import numpy as np \n",
    "import datetime as datetime\n",
    "sys.path.append(r'..\\..\\..\\.')\n",
    "\n",
    "from pydaisy.Daisy import *\n",
    "output ='DM'\n",
    "harvest=DaisyDlf(r'../RunK/K4_230_True/DailyP-harvest.dlf')\n",
    "df=harvest.Data\n",
    "# summere og plot af udbytte i tørstof DM       \n",
    "harv_grain = df[['crop', 'sorg_'+output]]\n",
    "harv_grass = df[['crop', 'leaf_'+output, 'stem_'+output,'sorg_'+output]]\n",
    "grain =harv_grain.groupby('crop')\n",
    "cereal = grain.get_group('SB').sum(axis=1)\n",
    "grain =harv_grass.groupby('crop')\n",
    "grass = grain.get_group('Ryegrass').sum(axis=1)\n",
    "\n",
    "print(cereal)\n",
    "print(grass)\n",
    "\n",
    "#outpu = 'DM'\n",
    "#rg=extract(Ryegrass, DailyP-harvest.dlf, output)\n",
    "\n",
    "#rg=extract(crop_name='Ryegrass', os.path.join(root, d, \"DailyP-harvest.dlf\"), output)"
   ]
  },
  {
   "cell_type": "code",
   "execution_count": null,
   "metadata": {},
   "outputs": [],
   "source": [
    "\n",
    "\n",
    "def extract(crop_name, filnavn, output): # output altid være N?\n",
    "    harvest=DaisyDlf(filnavn)\n",
    "    df=harvest.Data\n",
    "    # summere og plot af udbytte i tørstof DM       \n",
    "    harv_grain = df[['crop', 'sorg_'+output]]\n",
    "    harv_grass = df[['crop', 'leaf_'+output, 'stem_'+output,'sorg_'+output]]\n",
    "    grain =harv_grain.groupby('crop')\n",
    "    cereal = grain.get_group(crop_name).sum(axis=1)\n",
    "    return(cereal)\n"
   ]
  },
  {
   "cell_type": "code",
   "execution_count": null,
   "metadata": {},
   "outputs": [],
   "source": [
    "crop_name= Ryegrass\n",
    "output = 'DM'\n",
    "\n",
    "rg=extract(crop_name='Ryegrass', 'r../RunK/K4_230_True/DailyP-harvest.dlf', output)"
   ]
  }
 ],
 "metadata": {
  "kernelspec": {
   "display_name": "Python 3",
   "language": "python",
   "name": "python3"
  },
  "language_info": {
   "codemirror_mode": {
    "name": "ipython",
    "version": 3
   },
   "file_extension": ".py",
   "mimetype": "text/x-python",
   "name": "python",
   "nbconvert_exporter": "python",
   "pygments_lexer": "ipython3",
   "version": "3.7.0"
  }
 },
 "nbformat": 4,
 "nbformat_minor": 2
}
