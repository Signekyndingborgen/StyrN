{
 "cells": [
  {
   "cell_type": "code",
   "execution_count": 118,
   "metadata": {},
   "outputs": [
    {
     "name": "stdout",
     "output_type": "stream",
     "text": [
      "Vinterhvede\n",
      "Vårbyg\n"
     ]
    }
   ],
   "source": [
    "import sys\n",
    "import pandas as pd\n",
    "import os\n",
    "import matplotlib.pyplot as plt\n",
    "import numpy as np \n",
    "import datetime as datetime\n",
    "import shutil\n",
    "\n",
    "rota = pd.DataFrame(pd.read_excel('../common/masterinput_v2.xlsx',sheet_name= 'Rotations'))\n",
    "rota.index = rota['ID']\n",
    "crops = pd.read_excel('../common/masterinput_v2.xlsx',sheet_name= 'Crops')\n",
    "crops.index = crops['Crop']\n",
    "manure = pd.read_excel('../common/masterinput_v2.xlsx',sheet_name= 'Manure1')\n",
    "manure.index = manure['ID']\n",
    "# National N norms for each crop ID afgkode\n",
    "norm = pd.read_excel('../common/Nnorm_2019.xlsx', sheet_name = \"Ark1\")\n",
    "norm.index = norm['afgkode']\n",
    "#df.loc[df['Letters'] == 'C', 'Letters'].values[0]\n",
    "#norm.loc[norm[crop_ID]['Ja/Nej'] == 1, Ja]\n",
    "#if norm.loc[crop_ID]['Ja/Nej'].values[0]:\n",
    "#    print()\n",
    "#    print('yes')\n",
    "#else:\n",
    "#    print('no')\n",
    "#norm.loc[crop_ID]['Ja/Nej']\n",
    "print(cropname)\n",
    "crop_ID\n",
    "print(LastYearCropName)\n",
    "#print(norm_crop)\n",
    "#print(forfrugt)\n",
    "#print(weight)\n",
    "#rota[rotation][0].strip()\n",
    "#forfrugt = norm.loc[LastYearCropID]['Forfrugt']\n",
    "#print(forfrugt)"
   ]
  },
  {
   "cell_type": "code",
   "execution_count": 127,
   "metadata": {},
   "outputs": [
    {
     "data": {
      "text/plain": [
       "0.3333333333333333"
      ]
     },
     "execution_count": 127,
     "metadata": {},
     "output_type": "execute_result"
    }
   ],
   "source": [
    "import sys\n",
    "import pandas as pd\n",
    "import os\n",
    "import matplotlib.pyplot as plt\n",
    "import numpy as np \n",
    "import datetime as datetime\n",
    "import shutil\n",
    "\n",
    "norm = pd.read_excel('../common/Nnorm_2019.xlsx', sheet_name = \"Ark1\")\n",
    "norm.index = norm['afgkode']\n",
    "\n",
    "def CalcFertil(crop_ID, LastYearCropID, soil, AllCropIDs):\n",
    "    norm_crop = norm[soil][crop_ID]\n",
    "    forfrugt=0\n",
    "    if norm['Ja/Nej'][crop_ID]==1:\n",
    "        forfrugt = norm['Forfrugt'][LastYearCropID]\n",
    "    \n",
    "    SumNorm=0\n",
    "    for i in range(0,len(AllCropIDs)):\n",
    "        SumNorm+=norm[soil][AllCropIDs[i]]\n",
    "        if norm['Ja/Nej'][AllCropIDs[i]]==1:\n",
    "            lastyear=i-1\n",
    "            if i==0:\n",
    "                lastyear=len(AllCropIDs)-1\n",
    "            SumNorm-=norm['Forfrugt'][AllCropIDs[lastyear]]\n",
    "    \n",
    "    weight = (norm_crop - forfrugt)/SumNorm ## forfrugten fra forrige år skal trækkes fra\n",
    "    \n",
    "    return weight \n",
    "\n",
    "\n",
    "\n",
    "CalcFertil(216,216,'JB 1+3',[216, 216, 216])\n"
   ]
  },
  {
   "cell_type": "code",
   "execution_count": 117,
   "metadata": {},
   "outputs": [
    {
     "name": "stdout",
     "output_type": "stream",
     "text": [
      "K5\n",
      "1.0\n",
      "1.0\n",
      "1.0\n",
      "1.0\n",
      "1.0\n",
      "1.0\n"
     ]
    },
    {
     "ename": "ValueError",
     "evalue": "DataFrame constructor not properly called!",
     "output_type": "error",
     "traceback": [
      "\u001b[1;31m---------------------------------------------------------------------------\u001b[0m",
      "\u001b[1;31mValueError\u001b[0m                                Traceback (most recent call last)",
      "\u001b[1;32m<ipython-input-117-433da0615672>\u001b[0m in \u001b[0;36m<module>\u001b[1;34m()\u001b[0m\n\u001b[0;32m     43\u001b[0m                 \u001b[1;32mif\u001b[0m \u001b[1;32mnot\u001b[0m \u001b[0mpd\u001b[0m\u001b[1;33m.\u001b[0m\u001b[0misna\u001b[0m\u001b[1;33m(\u001b[0m\u001b[0mgylle\u001b[0m\u001b[1;33m[\u001b[0m\u001b[0mfer\u001b[0m\u001b[1;33m]\u001b[0m\u001b[1;33m)\u001b[0m\u001b[1;33m:\u001b[0m\u001b[1;33m\u001b[0m\u001b[0m\n\u001b[0;32m     44\u001b[0m                     \u001b[0mgyl_tot\u001b[0m\u001b[1;33m=\u001b[0m \u001b[0mgylle\u001b[0m\u001b[1;33m[\u001b[0m\u001b[0mfer\u001b[0m\u001b[1;33m]\u001b[0m\u001b[1;33m*\u001b[0m\u001b[1;36m0.7\u001b[0m\u001b[1;33m*\u001b[0m\u001b[0mlen\u001b[0m\u001b[1;33m(\u001b[0m\u001b[0mind\u001b[0m\u001b[1;33m)\u001b[0m\u001b[1;33m\u001b[0m\u001b[0m\n\u001b[1;32m---> 45\u001b[1;33m                     \u001b[0mFert_yr\u001b[0m \u001b[1;33m=\u001b[0m \u001b[0mpd\u001b[0m\u001b[1;33m.\u001b[0m\u001b[0mDataFrame\u001b[0m\u001b[1;33m(\u001b[0m\u001b[0mweight\u001b[0m\u001b[1;33m*\u001b[0m\u001b[0mgyl_tot\u001b[0m\u001b[1;33m,\u001b[0m \u001b[0mcolumns\u001b[0m \u001b[1;33m=\u001b[0m \u001b[1;33m[\u001b[0m\u001b[1;34m'gylleN'\u001b[0m\u001b[1;33m]\u001b[0m\u001b[1;33m)\u001b[0m\u001b[1;33m\u001b[0m\u001b[0m\n\u001b[0m\u001b[0;32m     46\u001b[0m                     \u001b[0mFert_yr\u001b[0m\u001b[1;33m[\u001b[0m\u001b[1;34m'MineralN'\u001b[0m\u001b[1;33m]\u001b[0m \u001b[1;33m=\u001b[0m \u001b[0mnorm_crop\u001b[0m \u001b[1;33m-\u001b[0m \u001b[0mFert_yr\u001b[0m\u001b[1;33m.\u001b[0m\u001b[0mgylleN\u001b[0m\u001b[1;33m\u001b[0m\u001b[0m\n\u001b[0;32m     47\u001b[0m                     \u001b[0mprint\u001b[0m \u001b[1;33m(\u001b[0m\u001b[0mFert_yr\u001b[0m\u001b[1;33m)\u001b[0m\u001b[1;33m\u001b[0m\u001b[0m\n",
      "\u001b[1;32m~\\AppData\\Local\\Continuum\\anaconda3\\lib\\site-packages\\pandas\\core\\frame.py\u001b[0m in \u001b[0;36m__init__\u001b[1;34m(self, data, index, columns, dtype, copy)\u001b[0m\n\u001b[0;32m    420\u001b[0m                                          dtype=values.dtype, copy=False)\n\u001b[0;32m    421\u001b[0m             \u001b[1;32melse\u001b[0m\u001b[1;33m:\u001b[0m\u001b[1;33m\u001b[0m\u001b[0m\n\u001b[1;32m--> 422\u001b[1;33m                 \u001b[1;32mraise\u001b[0m \u001b[0mValueError\u001b[0m\u001b[1;33m(\u001b[0m\u001b[1;34m'DataFrame constructor not properly called!'\u001b[0m\u001b[1;33m)\u001b[0m\u001b[1;33m\u001b[0m\u001b[0m\n\u001b[0m\u001b[0;32m    423\u001b[0m \u001b[1;33m\u001b[0m\u001b[0m\n\u001b[0;32m    424\u001b[0m         \u001b[0mNDFrame\u001b[0m\u001b[1;33m.\u001b[0m\u001b[0m__init__\u001b[0m\u001b[1;33m(\u001b[0m\u001b[0mself\u001b[0m\u001b[1;33m,\u001b[0m \u001b[0mmgr\u001b[0m\u001b[1;33m,\u001b[0m \u001b[0mfastpath\u001b[0m\u001b[1;33m=\u001b[0m\u001b[1;32mTrue\u001b[0m\u001b[1;33m)\u001b[0m\u001b[1;33m\u001b[0m\u001b[0m\n",
      "\u001b[1;31mValueError\u001b[0m: DataFrame constructor not properly called!"
     ]
    }
   ],
   "source": [
    "sys.path.insert(0,r'../../pydaisy/')\n",
    "from pydaisy.Daisy import *\n",
    "# Mangler at samle Fert_yr for hver rotation\n",
    "# VIrker ikke med kun 4 eller 5 årige rotationer - men den kører\n",
    "## Kan godt blive negativ gylleN !!\n",
    "## the forfrugt is not being subtracted for the right year.\n",
    "\n",
    "# from collections import defaultdict\n",
    "\n",
    "path = r'../Run'\n",
    "soil = 'JB 1+3'\n",
    "i = 0\n",
    "maxnumberyear =6\n",
    "for i in range(4, 5): ## SÆDSKIFTE\n",
    "    rotation = rota.columns[i]\n",
    "    print(rotation)\n",
    "    ind = []\n",
    "# Define the crop rotation\n",
    "    LastYearCropName = rota[rotation][maxnumberyear].strip()\n",
    "    for year in range(0, maxnumberyear): ## Per år\n",
    "        if not pd.isna(rota[rotation][year]):\n",
    "            cropname = rota[rotation][year].strip()\n",
    "            crop_ID = int(crops['afgkode1'][cropname])\n",
    "            LastYearCropID = int(crops['afgkode1'][LastYearCropName])\n",
    "    #print(crop_ID)\n",
    "        #crop_ID = crops.loc[ind]['afgkode1'].map(int)\n",
    "            norm_crop = norm.loc[crop_ID][soil]\n",
    "            forfrugt = norm.loc[LastYearCropID]['Forfrugt']\n",
    "            weight =  (norm_crop - forfrugt)/((norm_crop - forfrugt).sum()) ## forfrugten fra forrige år skal trækkes fra\n",
    "            \n",
    "            LastYearCropName=cropname\n",
    "# Calc the weights of the crop rotation with the condition that forfrugt Ja/Nej skal være 1 ellers er vægt = 0  \n",
    "        #if norm.loc[crop_ID]['Ja/Nej'].item() == 1:\n",
    "            \n",
    "        #else:\n",
    "            #weight = 0\n",
    "        #weight += weight\n",
    "        #print(ind)\n",
    "            print(weight)\n",
    "    if not pd.isna(rota[rotation].loc['Konv']):\n",
    "        manID = rota[rotation].loc['Konv']\n",
    "        gylle = manure.loc[manID][1:]\n",
    "        if gylle[0] == 'Cattleslurry':\n",
    "            for fer in range(1,4):\n",
    "                if not pd.isna(gylle[fer]):\n",
    "                    gyl_tot= gylle[fer]*0.7*len(ind)\n",
    "                    Fert_yr = pd.DataFrame(weight*gyl_tot, columns = ['gylleN'])\n",
    "                    Fert_yr['MineralN'] = norm_crop - Fert_yr.gylleN\n",
    "                    print (Fert_yr)\n",
    "        if gylle[0] == 'Pigslurry':\n",
    "            for fer in range(1,4):\n",
    "                if not pd.isna(gylle[fer]):\n",
    "                    gyl_tot = gylle[fer]*0.75*len(ind)\n",
    "                    Fert_yr = pd.DataFrame(weight*gyl_tot, columns = ['gylleN'])\n",
    "                    Fert_yr['MineralN'] = norm_crop - Fert_yr.gylleN\n",
    "                    print(Fert_yr)    \n",
    "    \n",
    "    if not pd.isna(rota[rotation].loc['Øko']):\n",
    "        manID = rota[rotation].loc['Øko']\n",
    "        gylle = manure.loc[manID][1:]\n",
    "        if gylle[0] == 'Cattleslurry':\n",
    "            for fer in range(1,4):\n",
    "                if not pd.isna(gylle[fer]):\n",
    "                    gyl_tot= gylle[fer]*0.7*len(ind)\n",
    "                    Fert_yr = pd.DataFrame(weight*gyl_tot, columns = ['gylleN'])\n",
    "                    print(Fert_yr)\n",
    "                    #fert[rotation].append(Fert_yr)\n",
    "        if gylle[0] == 'Pigslurry':\n",
    "            for fer in range(1,4):\n",
    "                if not pd.isna(gylle[fer]):\n",
    "                    gyl_tot = gylle[fer]*0.75*len(ind)\n",
    "                    Fert_yr = pd.DataFrame(weight*gyl_tot, columns = ['gylleN'])\n",
    "                    print(Fert_yr)\n",
    "                    \n",
    "    #fert[rotation].append(Fert_yr)"
   ]
  },
  {
   "cell_type": "code",
   "execution_count": null,
   "metadata": {},
   "outputs": [],
   "source": [
    "fert = DaisyEntry('fertilize',[])\n",
    "fert.Children.append(DaisyEntry('\"' + df['what'][i]+'\"',[]))\n",
    "fert.Children.append(DaisyEntry('equivalent_weight',[ str(df['amount'][i]) , '[kg N/ha]']))\n",
    "fert.Children.append(DaisyEntry('from', ['-5', '[cm]']))\n",
    "fert.Children.append(DaisyEntry('to', ['-15', '[cm]']))\n",
    "block.Children.append(fert)"
   ]
  },
  {
   "cell_type": "code",
   "execution_count": 2,
   "metadata": {},
   "outputs": [
    {
     "name": "stdout",
     "output_type": "stream",
     "text": [
      "         afgkode        Crop Forfrugt  Ja/Nej  JB 1+3  JB 2+4  \\\n",
      "afgkode                                                         \n",
      "216          216  Majshelsæd        0       1   173.0   158.0   \n",
      "216          216  Majshelsæd        0       1   173.0   158.0   \n",
      "216          216  Majshelsæd        0       1   173.0   158.0   \n",
      "216          216  Majshelsæd        0       1   173.0   158.0   \n",
      "216          216  Majshelsæd        0       1   173.0   158.0   \n",
      "216          216  Majshelsæd        0       1   173.0   158.0   \n",
      "\n",
      "         Vandet sandjord  JB 5-6  JB7-9  \n",
      "afgkode                                  \n",
      "216                188.0   162.0  170.0  \n",
      "216                188.0   162.0  170.0  \n",
      "216                188.0   162.0  170.0  \n",
      "216                188.0   162.0  170.0  \n",
      "216                188.0   162.0  170.0  \n",
      "216                188.0   162.0  170.0  \n"
     ]
    }
   ],
   "source": [
    "# Test: locate fertilizer norm based on cropID from the crop rotations\n",
    "columnname='KK2'\n",
    "ind= rota[columnname][0:6]\n",
    "soil = 'JB 1+3'\n",
    "crop_ID = crops.loc[ind]['afgkode1'].map(int)\n",
    "\n",
    "#if norm.loc[crop_ID]['Ja/Nej']== 1:\n",
    "norm_tot = (norm.loc[crop_ID][soil] - norm.loc[crop_ID]['Forfrugt']).sum()\n",
    "#else:\n",
    "#    norm_tot = norm.loc[crop_ID][soil].sum()\n",
    "#else:\n",
    " #   forfrugt = 0\n",
    "norm.head()\n",
    "print(norm.loc[crop_ID])"
   ]
  },
  {
   "cell_type": "code",
   "execution_count": 42,
   "metadata": {},
   "outputs": [],
   "source": [
    "## Når 0 kg N husdyrgødning\n",
    "norm_crop = norm.loc[crop_ID][soil]\n",
    "weight = (norm_crop - (norm.loc[crop_ID]['Forfrugt']))/norm_tot\n",
    "fertil = weight*norm_tot\n"
   ]
  },
  {
   "cell_type": "code",
   "execution_count": 43,
   "metadata": {},
   "outputs": [
    {
     "name": "stdout",
     "output_type": "stream",
     "text": [
      "        gylleN MineralN\n",
      "afgkode                \n",
      "216        119       54\n",
      "216        119       54\n",
      "216        119       54\n",
      "216        119       54\n",
      "216        119       54\n",
      "216        119       54\n"
     ]
    }
   ],
   "source": [
    "## Med husdyrgødning - konventionel\n",
    "\n",
    "manID = rota[columnname].loc['Konv']\n",
    "gylle = manure.loc[manID][1:]\n",
    "if gylle[0] == 'Cattleslurry':\n",
    "    for fer in range(1,4):\n",
    "        if not pd.isna(gylle[fer]):\n",
    "            gyl_tot= gylle[fer]*0.7*6 # change to length of rotation\n",
    "            Fert_yr = pd.DataFrame(weight*gyl_tot, columns = ['gylleN'])\n",
    "            Fert_yr['MineralN'] = norm_crop - Fert_yr.gylleN\n",
    "            print(Fert_yr)\n",
    "if gylle[0] == 'Pigslurry':\n",
    "    for fer in range(1,4):\n",
    "        if not pd.isna(gylle[fer]):\n",
    "            gyl_tot = gylle[fer]*0.75*6 # change to length of rotation\n",
    "            Fert_yr = pd.DataFrame(weight*gyl_tot, columns = ['gylleN'])\n",
    "            Fert_yr['MineralN'] = norm_crop - Fert_yr.gylleN\n",
    "            print(Fert_yr)    "
   ]
  },
  {
   "cell_type": "code",
   "execution_count": 12,
   "metadata": {},
   "outputs": [
    {
     "ename": "KeyError",
     "evalue": "'[ 11.  10.  10.  14.  14.  22.   1. 701.   1.   1.   1.   2.   2.   1.\\n 101. 151. 216. 160.  30. 260. 260. 963. 962.  nan 252. 252. 255. 255.] not in index'",
     "output_type": "error",
     "traceback": [
      "\u001b[1;31m---------------------------------------------------------------------------\u001b[0m",
      "\u001b[1;31mKeyError\u001b[0m                                  Traceback (most recent call last)",
      "\u001b[1;32m<ipython-input-12-e170f62be020>\u001b[0m in \u001b[0;36m<module>\u001b[1;34m()\u001b[0m\n\u001b[0;32m      8\u001b[0m \u001b[0mrotation_norm\u001b[0m \u001b[1;33m=\u001b[0m \u001b[1;33m[\u001b[0m\u001b[1;33m]\u001b[0m\u001b[1;33m\u001b[0m\u001b[0m\n\u001b[0;32m      9\u001b[0m \u001b[1;31m#rotation_norm.append(rota[columnname][year],norm[] )\u001b[0m\u001b[1;33m\u001b[0m\u001b[1;33m\u001b[0m\u001b[0m\n\u001b[1;32m---> 10\u001b[1;33m \u001b[0mnorm\u001b[0m\u001b[1;33m[\u001b[0m\u001b[0mcrops\u001b[0m\u001b[1;33m[\u001b[0m\u001b[1;34m'afgkode1'\u001b[0m\u001b[1;33m]\u001b[0m\u001b[1;33m]\u001b[0m\u001b[1;33m=\u001b[0m\u001b[0mnorm\u001b[0m\u001b[1;33m[\u001b[0m\u001b[0mcrops\u001b[0m\u001b[1;33m[\u001b[0m\u001b[1;34m'afgkode1'\u001b[0m\u001b[1;33m]\u001b[0m\u001b[1;33m]\u001b[0m\u001b[1;33m.\u001b[0m\u001b[0mmap\u001b[0m\u001b[1;33m(\u001b[0m\u001b[0mint\u001b[0m\u001b[1;33m)\u001b[0m\u001b[1;33m\u001b[0m\u001b[0m\n\u001b[0m",
      "\u001b[1;32m~\\AppData\\Local\\Continuum\\anaconda3\\lib\\site-packages\\pandas\\core\\frame.py\u001b[0m in \u001b[0;36m__getitem__\u001b[1;34m(self, key)\u001b[0m\n\u001b[0;32m   2680\u001b[0m         \u001b[1;32mif\u001b[0m \u001b[0misinstance\u001b[0m\u001b[1;33m(\u001b[0m\u001b[0mkey\u001b[0m\u001b[1;33m,\u001b[0m \u001b[1;33m(\u001b[0m\u001b[0mSeries\u001b[0m\u001b[1;33m,\u001b[0m \u001b[0mnp\u001b[0m\u001b[1;33m.\u001b[0m\u001b[0mndarray\u001b[0m\u001b[1;33m,\u001b[0m \u001b[0mIndex\u001b[0m\u001b[1;33m,\u001b[0m \u001b[0mlist\u001b[0m\u001b[1;33m)\u001b[0m\u001b[1;33m)\u001b[0m\u001b[1;33m:\u001b[0m\u001b[1;33m\u001b[0m\u001b[0m\n\u001b[0;32m   2681\u001b[0m             \u001b[1;31m# either boolean or fancy integer index\u001b[0m\u001b[1;33m\u001b[0m\u001b[1;33m\u001b[0m\u001b[0m\n\u001b[1;32m-> 2682\u001b[1;33m             \u001b[1;32mreturn\u001b[0m \u001b[0mself\u001b[0m\u001b[1;33m.\u001b[0m\u001b[0m_getitem_array\u001b[0m\u001b[1;33m(\u001b[0m\u001b[0mkey\u001b[0m\u001b[1;33m)\u001b[0m\u001b[1;33m\u001b[0m\u001b[0m\n\u001b[0m\u001b[0;32m   2683\u001b[0m         \u001b[1;32melif\u001b[0m \u001b[0misinstance\u001b[0m\u001b[1;33m(\u001b[0m\u001b[0mkey\u001b[0m\u001b[1;33m,\u001b[0m \u001b[0mDataFrame\u001b[0m\u001b[1;33m)\u001b[0m\u001b[1;33m:\u001b[0m\u001b[1;33m\u001b[0m\u001b[0m\n\u001b[0;32m   2684\u001b[0m             \u001b[1;32mreturn\u001b[0m \u001b[0mself\u001b[0m\u001b[1;33m.\u001b[0m\u001b[0m_getitem_frame\u001b[0m\u001b[1;33m(\u001b[0m\u001b[0mkey\u001b[0m\u001b[1;33m)\u001b[0m\u001b[1;33m\u001b[0m\u001b[0m\n",
      "\u001b[1;32m~\\AppData\\Local\\Continuum\\anaconda3\\lib\\site-packages\\pandas\\core\\frame.py\u001b[0m in \u001b[0;36m_getitem_array\u001b[1;34m(self, key)\u001b[0m\n\u001b[0;32m   2724\u001b[0m             \u001b[1;32mreturn\u001b[0m \u001b[0mself\u001b[0m\u001b[1;33m.\u001b[0m\u001b[0m_take\u001b[0m\u001b[1;33m(\u001b[0m\u001b[0mindexer\u001b[0m\u001b[1;33m,\u001b[0m \u001b[0maxis\u001b[0m\u001b[1;33m=\u001b[0m\u001b[1;36m0\u001b[0m\u001b[1;33m)\u001b[0m\u001b[1;33m\u001b[0m\u001b[0m\n\u001b[0;32m   2725\u001b[0m         \u001b[1;32melse\u001b[0m\u001b[1;33m:\u001b[0m\u001b[1;33m\u001b[0m\u001b[0m\n\u001b[1;32m-> 2726\u001b[1;33m             \u001b[0mindexer\u001b[0m \u001b[1;33m=\u001b[0m \u001b[0mself\u001b[0m\u001b[1;33m.\u001b[0m\u001b[0mloc\u001b[0m\u001b[1;33m.\u001b[0m\u001b[0m_convert_to_indexer\u001b[0m\u001b[1;33m(\u001b[0m\u001b[0mkey\u001b[0m\u001b[1;33m,\u001b[0m \u001b[0maxis\u001b[0m\u001b[1;33m=\u001b[0m\u001b[1;36m1\u001b[0m\u001b[1;33m)\u001b[0m\u001b[1;33m\u001b[0m\u001b[0m\n\u001b[0m\u001b[0;32m   2727\u001b[0m             \u001b[1;32mreturn\u001b[0m \u001b[0mself\u001b[0m\u001b[1;33m.\u001b[0m\u001b[0m_take\u001b[0m\u001b[1;33m(\u001b[0m\u001b[0mindexer\u001b[0m\u001b[1;33m,\u001b[0m \u001b[0maxis\u001b[0m\u001b[1;33m=\u001b[0m\u001b[1;36m1\u001b[0m\u001b[1;33m)\u001b[0m\u001b[1;33m\u001b[0m\u001b[0m\n\u001b[0;32m   2728\u001b[0m \u001b[1;33m\u001b[0m\u001b[0m\n",
      "\u001b[1;32m~\\AppData\\Local\\Continuum\\anaconda3\\lib\\site-packages\\pandas\\core\\indexing.py\u001b[0m in \u001b[0;36m_convert_to_indexer\u001b[1;34m(self, obj, axis, is_setter)\u001b[0m\n\u001b[0;32m   1325\u001b[0m                 \u001b[1;32mif\u001b[0m \u001b[0mmask\u001b[0m\u001b[1;33m.\u001b[0m\u001b[0many\u001b[0m\u001b[1;33m(\u001b[0m\u001b[1;33m)\u001b[0m\u001b[1;33m:\u001b[0m\u001b[1;33m\u001b[0m\u001b[0m\n\u001b[0;32m   1326\u001b[0m                     raise KeyError('{mask} not in index'\n\u001b[1;32m-> 1327\u001b[1;33m                                    .format(mask=objarr[mask]))\n\u001b[0m\u001b[0;32m   1328\u001b[0m \u001b[1;33m\u001b[0m\u001b[0m\n\u001b[0;32m   1329\u001b[0m                 \u001b[1;32mreturn\u001b[0m \u001b[0mcom\u001b[0m\u001b[1;33m.\u001b[0m\u001b[0m_values_from_object\u001b[0m\u001b[1;33m(\u001b[0m\u001b[0mindexer\u001b[0m\u001b[1;33m)\u001b[0m\u001b[1;33m\u001b[0m\u001b[0m\n",
      "\u001b[1;31mKeyError\u001b[0m: '[ 11.  10.  10.  14.  14.  22.   1. 701.   1.   1.   1.   2.   2.   1.\\n 101. 151. 216. 160.  30. 260. 260. 963. 962.  nan 252. 252. 255. 255.] not in index'"
     ]
    }
   ],
   "source": [
    "columnname='KK2'\n",
    "year = 1\n",
    "\"\"\"Norm_scale = Nnorm[c]/Nnorm[c].sum\n",
    "for c in range(0,6):\n",
    "        manure = man_kg*norm_scale\n",
    "        mineralN = Norm-manure\n",
    "        \"\"\"\n",
    "rotation_norm = []\n",
    "#rotation_norm.append(rota[columnname][year],norm[] )\n",
    "norm[crops['afgkode1']]=norm[crops['afgkode1']].map(int)\n"
   ]
  },
  {
   "cell_type": "code",
   "execution_count": 147,
   "metadata": {},
   "outputs": [
    {
     "name": "stdout",
     "output_type": "stream",
     "text": [
      "KK2\n",
      "Silomajs    216.0\n",
      "Silomajs    216.0\n",
      "Silomajs    216.0\n",
      "Silomajs    216.0\n",
      "Silomajs    216.0\n",
      "Silomajs    216.0\n",
      "Name: afgkode1, dtype: float64\n"
     ]
    }
   ],
   "source": [
    "## Function to estimate mineral fertilizer\n",
    "year = 1\n",
    "#if pd.isna(manure.loc['0 kgN']):\n",
    "Nnorm_tot = crops\n",
    "ind= rota[columnname][0:6]\n",
    "\n",
    "a=crops['afgkode1'][ind][:]\n",
    "#crops['afgkode1']\n",
    "#crops.head()\n",
    "#int(round(crops.afgkode1.dtype))\n",
    "print(a)\n"
   ]
  },
  {
   "cell_type": "code",
   "execution_count": 87,
   "metadata": {},
   "outputs": [
    {
     "name": "stdout",
     "output_type": "stream",
     "text": [
      "KK2\n",
      "Silomajs   NaN\n",
      "Silomajs   NaN\n",
      "Silomajs   NaN\n",
      "Silomajs   NaN\n",
      "Silomajs   NaN\n",
      "Silomajs   NaN\n",
      "Name: afgkode1, dtype: float64\n"
     ]
    }
   ],
   "source": [
    "#crops['Crop']==int(rota[columnname][year]['afgkode1'])\n",
    "if not pd.isna:\n",
    "    crops['afgkode1']= crops['afgkode1'].map(int)\n",
    "print(crops['afgkode1'][ind][:])"
   ]
  },
  {
   "cell_type": "code",
   "execution_count": 31,
   "metadata": {},
   "outputs": [],
   "source": [
    "i=0  \n",
    "for i in range(1, 21):\n",
    "    columnname=rota.columns[i]\n",
    "    for year in range(0,6):\n",
    "        if not pd.isna(rota[columnname][year]):\n",
    "            cropname = rota[columnname][year]\n",
    "            \n",
    "       "
   ]
  },
  {
   "cell_type": "code",
   "execution_count": 79,
   "metadata": {},
   "outputs": [
    {
     "data": {
      "text/html": [
       "<div>\n",
       "<style scoped>\n",
       "    .dataframe tbody tr th:only-of-type {\n",
       "        vertical-align: middle;\n",
       "    }\n",
       "\n",
       "    .dataframe tbody tr th {\n",
       "        vertical-align: top;\n",
       "    }\n",
       "\n",
       "    .dataframe thead th {\n",
       "        text-align: right;\n",
       "    }\n",
       "</style>\n",
       "<table border=\"1\" class=\"dataframe\">\n",
       "  <thead>\n",
       "    <tr style=\"text-align: right;\">\n",
       "      <th></th>\n",
       "      <th>ID</th>\n",
       "      <th>KK2</th>\n",
       "      <th>KK3</th>\n",
       "      <th>K4</th>\n",
       "      <th>K5</th>\n",
       "      <th>K6</th>\n",
       "      <th>K7</th>\n",
       "      <th>K8</th>\n",
       "      <th>K9</th>\n",
       "      <th>K10</th>\n",
       "      <th>...</th>\n",
       "      <th>P5</th>\n",
       "      <th>PK8</th>\n",
       "      <th>P9</th>\n",
       "      <th>PK10</th>\n",
       "      <th>PØ11</th>\n",
       "      <th>PØ12</th>\n",
       "      <th>SK1</th>\n",
       "      <th>S1</th>\n",
       "      <th>S4</th>\n",
       "      <th>SØ6</th>\n",
       "    </tr>\n",
       "  </thead>\n",
       "  <tbody>\n",
       "    <tr>\n",
       "      <th>7</th>\n",
       "      <td>Øko</td>\n",
       "      <td>NaN</td>\n",
       "      <td>NaN</td>\n",
       "      <td>O2</td>\n",
       "      <td>O2</td>\n",
       "      <td>O2</td>\n",
       "      <td>O2</td>\n",
       "      <td>O2</td>\n",
       "      <td>O3</td>\n",
       "      <td>O3</td>\n",
       "      <td>...</td>\n",
       "      <td>O1</td>\n",
       "      <td>NaN</td>\n",
       "      <td>O1</td>\n",
       "      <td>NaN</td>\n",
       "      <td>O1</td>\n",
       "      <td>O1</td>\n",
       "      <td>NaN</td>\n",
       "      <td>O1</td>\n",
       "      <td>O1</td>\n",
       "      <td>O1</td>\n",
       "    </tr>\n",
       "  </tbody>\n",
       "</table>\n",
       "<p>1 rows × 21 columns</p>\n",
       "</div>"
      ],
      "text/plain": [
       "    ID  KK2  KK3  K4  K5   K6   K7   K8  K9 K10 ...  P5  PK8  P9 PK10 PØ11  \\\n",
       "7  Øko  NaN  NaN  O2  O2  O2   O2   O2   O3  O3 ...  O1  NaN  O1  NaN   O1   \n",
       "\n",
       "  PØ12  SK1  S1  S4 SØ6  \n",
       "7   O1  NaN  O1  O1  O1  \n",
       "\n",
       "[1 rows x 21 columns]"
      ]
     },
     "execution_count": 79,
     "metadata": {},
     "output_type": "execute_result"
    }
   ],
   "source": [
    "rota.loc[rota.ID == 'Øko']"
   ]
  }
 ],
 "metadata": {
  "kernelspec": {
   "display_name": "Python 3",
   "language": "python",
   "name": "python3"
  },
  "language_info": {
   "codemirror_mode": {
    "name": "ipython",
    "version": 3
   },
   "file_extension": ".py",
   "mimetype": "text/x-python",
   "name": "python",
   "nbconvert_exporter": "python",
   "pygments_lexer": "ipython3",
   "version": "3.7.0"
  }
 },
 "nbformat": 4,
 "nbformat_minor": 2
}
