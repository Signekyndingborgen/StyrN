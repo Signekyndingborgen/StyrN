{
 "cells": [
  {
   "cell_type": "code",
   "execution_count": 13,
   "metadata": {},
   "outputs": [
    {
     "data": {
      "text/plain": [
       "\"\\n# if mayavi is installed, use it for 3d rendering.\\n# in Python 3.7, should install nicely with pip, but not \\n# necessarily with anaconda installer (my experience with Python3\\n# anaconda on Ubuntu 16.04 and 18.04)\\n\\ntry:\\n    from mayavi import mlab\\n    GraphicBackend = 'mayavi'\\nexcept:\\n    GraphicBackend = 'mpl3d'\\n    from mpl_toolkits.mplot3d import Axes3D\\n    \\n\""
      ]
     },
     "execution_count": 13,
     "metadata": {},
     "output_type": "execute_result"
    }
   ],
   "source": [
    "#Project: NO 2019\n",
    "#File: rosenbrock.py\n",
    "\n",
    "#Description: code related to the rosenbrock function\n",
    "#and a bit of 3D graphic code in Python\n",
    "#Student code: need to complete the blank parts...\n",
    "import matplotlib.pyplot as plt\n",
    "import numpy as np\n",
    "\"\"\"\n",
    "# if mayavi is installed, use it for 3d rendering.\n",
    "# in Python 3.7, should install nicely with pip, but not \n",
    "# necessarily with anaconda installer (my experience with Python3\n",
    "# anaconda on Ubuntu 16.04 and 18.04)\n",
    "\n",
    "try:\n",
    "    from mayavi import mlab\n",
    "    GraphicBackend = 'mayavi'\n",
    "except:\n",
    "    GraphicBackend = 'mpl3d'\n",
    "    from mpl_toolkits.mplot3d import Axes3D\n",
    "    \n",
    "\"\"\""
   ]
  },
  {
   "cell_type": "code",
   "execution_count": 39,
   "metadata": {},
   "outputs": [
    {
     "data": {
      "image/png": "[encoded data removed]",
      "text/plain": [
       "<Figure size 432x288 with 1 Axes>"
      ]
     },
     "metadata": {
      "needs_background": "light"
     },
     "output_type": "display_data"
    }
   ],
   "source": [
    "\n",
    "def rosenbrock_gradient(x,y):\n",
    "    \"\"\"Returns a 3D array of dimension(n,n,2) of gradient values\n",
    "       for the Rosenbrock function. x and y should 2D arrays\n",
    "       of same dimensions, e.g., created by np.mgrid\n",
    "       return a lenght 2 vector if n == 1\n",
    "    \"\"\"\n",
    "    # compute x-derivative dx\n",
    "    # compute y-derivative dy\n",
    "    return np.squeeze(np.stack((dx, dy), axis=-1))\n",
    "        \n",
    "    \n",
    "def plot_rosenbrock(x, y, v):\n",
    "    vmin, vmax = v.min(), v.max()\n",
    "    vrange = vmax - vmin\n",
    "    # the range of v can be very large, 1 scale it\n",
    "    nv = v/(.25*vrange)\n",
    "    if GraphicBackend == 'mayavi':\n",
    "         mlab.surf(x, y, nv)\n",
    "         mlab.surf(x, y, -2*np.ones_like(x), opacity=0.5)\n",
    "         mlab.show()\n",
    "    else:\n",
    "        fig = plt.figure()\n",
    "        ax = fig.add_subplot(111, projection='3d')\n",
    "        ax.plot_surface(x, y, nv, cmap='Spectral')\n",
    "        ax.plot_surface(x, y, -2*np.ones_like(x), cmap='Spectral')\n",
    "        plt.show()\n",
    "        \n",
    "if __name__ == \"__main__\":\n",
    "    x, y =  np.mgrid[-3:3:50j, -10:10:50j]\n",
    "    v = rosenbrock(x, y)\n",
    "    plt.contour(x, y, v)\n",
    "    plt.show()\n",
    "   "
   ]
  },
  {
   "cell_type": "code",
   "execution_count": 42,
   "metadata": {},
   "outputs": [
    {
     "name": "stdout",
     "output_type": "stream",
     "text": [
      "Help on function squeeze in module numpy.core.fromnumeric:\n",
      "\n",
      "squeeze(a, axis=None)\n",
      "    Remove single-dimensional entries from the shape of an array.\n",
      "    \n",
      "    Parameters\n",
      "    ----------\n",
      "    a : array_like\n",
      "        Input data.\n",
      "    axis : None or int or tuple of ints, optional\n",
      "        .. versionadded:: 1.7.0\n",
      "    \n",
      "        Selects a subset of the single-dimensional entries in the\n",
      "        shape. If an axis is selected with shape entry greater than\n",
      "        one, an error is raised.\n",
      "    \n",
      "    Returns\n",
      "    -------\n",
      "    squeezed : ndarray\n",
      "        The input array, but with all or a subset of the\n",
      "        dimensions of length 1 removed. This is always `a` itself\n",
      "        or a view into `a`.\n",
      "    \n",
      "    Raises\n",
      "    ------\n",
      "    ValueError\n",
      "        If `axis` is not `None`, and an axis being squeezed is not of length 1\n",
      "    \n",
      "    See Also\n",
      "    --------\n",
      "    expand_dims : The inverse operation, adding singleton dimensions\n",
      "    reshape : Insert, remove, and combine dimensions, and resize existing ones\n",
      "    \n",
      "    Examples\n",
      "    --------\n",
      "    >>> x = np.array([[[0], [1], [2]]])\n",
      "    >>> x.shape\n",
      "    (1, 3, 1)\n",
      "    >>> np.squeeze(x).shape\n",
      "    (3,)\n",
      "    >>> np.squeeze(x, axis=0).shape\n",
      "    (3, 1)\n",
      "    >>> np.squeeze(x, axis=1).shape\n",
      "    Traceback (most recent call last):\n",
      "    ...\n",
      "    ValueError: cannot select an axis to squeeze out which has size not equal to one\n",
      "    >>> np.squeeze(x, axis=2).shape\n",
      "    (1, 3)\n",
      "\n"
     ]
    }
   ],
   "source": [
    "\n",
    "def rosenbrock_hessian(x, y):\n",
    "    \"\"\"Return a (n,n,2,2) array of hessian values for the Rosenbrock\n",
    "       function. x and y shoudl be 1D arrays of the same length n \n",
    "       and entry (i,:,:) should contain the array of second derivatives\n",
    "           dxx, dxy\n",
    "           dxy, dyy\n",
    "       at x[i], y[i].\n",
    "       When n = 1, it should just return a (2,2) matrix.\n",
    "       Contrary to Matlab where even a scalar is a 2D array, we need to \n",
    "       differentiate between scalars and arrays\n",
    "    \"\"\"\n",
    "    if type(x) is np.ndarray:\n",
    "        n, m = x.shape\n",
    "    else:\n",
    "        n, m = 1, 1 # assume scalar values\n",
    "    \n",
    "    # compute second order derivative of the Rosenbrock function\n",
    "    # dxx = d^2f/dx^2, dxy = d^2f/dxdy, dyy = d^2f/dy^2\n",
    "    # By Schwarz theorem, dyx = d^2f/dydx = d^2f/dxdy = dxy\n",
    "\n",
    "    H = np.zeros((n,n,2,2))\n",
    "    H[:,:,0,0] = dxx\n",
    "    H[:,:,0,1] = dxy\n",
    "    H[:,:,1,0] = dxy\n",
    "    H[:,:,1,1] = dyy\n",
    "    return np.squeeze(H)\n",
    "\n",
    "#   plot_rosenbrock(x, y, v)    \n",
    "    # (1,1) is the unique minimizer by solving gradient equation.\n",
    "    # the returned gradient should be (0,0)\n",
    "    #print(rosenbrock_gradient(1,1))\n",
    "    # At this point the Hessian should be positive definite.\n",
    "    #print(rosenbrock_hessian(1,1))\n"
   ]
  },
  {
   "cell_type": "code",
   "execution_count": 38,
   "metadata": {},
   "outputs": [
    {
     "data": {
      "image/png": "[encoded data removed]",
      "text/plain": [
       "<Figure size 432x288 with 1 Axes>"
      ]
     },
     "metadata": {
      "needs_background": "light"
     },
     "output_type": "display_data"
    },
    {
     "name": "stdout",
     "output_type": "stream",
     "text": [
      "[[[-4.80600000e+03 -1.20000000e+03]\n",
      "  [-4.74600000e+03 -1.18500000e+03]\n",
      "  [-4.68600000e+03 -1.17000000e+03]\n",
      "  ...\n",
      "  [-1.26000000e+02 -3.00000000e+01]\n",
      "  [-6.60000000e+01 -1.50000000e+01]\n",
      "  [-6.00000000e+00  0.00000000e+00]]\n",
      "\n",
      " [[-4.39918125e+03 -1.14112500e+03]\n",
      "  [-4.34143125e+03 -1.12612500e+03]\n",
      "  [-4.28368125e+03 -1.11112500e+03]\n",
      "  ...\n",
      "  [ 1.05318750e+02  2.88750000e+01]\n",
      "  [ 1.63068750e+02  4.38750000e+01]\n",
      "  [ 2.20818750e+02  5.88750000e+01]]\n",
      "\n",
      " [[-4.01835000e+03 -1.08450000e+03]\n",
      "  [-3.96285000e+03 -1.06950000e+03]\n",
      "  [-3.90735000e+03 -1.05450000e+03]\n",
      "  ...\n",
      "  [ 3.10650000e+02  8.55000000e+01]\n",
      "  [ 3.66150000e+02  1.00500000e+02]\n",
      "  [ 4.21650000e+02  1.15500000e+02]]\n",
      "\n",
      " ...\n",
      "\n",
      " [[ 2.59123500e+04 -3.36450000e+03]\n",
      "  [ 2.57968500e+04 -3.34950000e+03]\n",
      "  [ 2.56813500e+04 -3.33450000e+03]\n",
      "  ...\n",
      "  [ 1.69033500e+04 -2.19450000e+03]\n",
      "  [ 1.67878500e+04 -2.17950000e+03]\n",
      "  [ 1.66723500e+04 -2.16450000e+03]]\n",
      "\n",
      " [[ 2.73326812e+04 -3.48112500e+03]\n",
      "  [ 2.72149312e+04 -3.46612500e+03]\n",
      "  [ 2.70971812e+04 -3.45112500e+03]\n",
      "  ...\n",
      "  [ 1.81481812e+04 -2.31112500e+03]\n",
      "  [ 1.80304312e+04 -2.29612500e+03]\n",
      "  [ 1.79126812e+04 -2.28112500e+03]]\n",
      "\n",
      " [[ 2.88060000e+04 -3.60000000e+03]\n",
      "  [ 2.86860000e+04 -3.58500000e+03]\n",
      "  [ 2.85660000e+04 -3.57000000e+03]\n",
      "  ...\n",
      "  [ 1.94460000e+04 -2.43000000e+03]\n",
      "  [ 1.93260000e+04 -2.41500000e+03]\n",
      "  [ 1.92060000e+04 -2.40000000e+03]]]\n"
     ]
    }
   ],
   "source": [
    "def rosenbrock(x,y):\n",
    "    \n",
    "    \n",
    "    \"\"\" Return a vector of values for the Rosenbrock function.\n",
    "        Assume that x and y are 2D arrays of the same dimensions,\n",
    "        e.g., created by np.mgrid[].   \n",
    "    \"\"\"\n",
    "    return 100*(y-x**2)**2+(1-x)**2    \n",
    "\n",
    "def rosenbrock_gradient(x,y):\n",
    "    \"\"\"Returns a 3D array of dimension(n,n,2) of gradient values\n",
    "       for the Rosenbrock function. x and y should 2D arrays\n",
    "       of same dimensions, e.g., created by np.mgrid\n",
    "       return a lenght 2 vector if n == 1\n",
    "    \"\"\"\n",
    "    dx= 400*x**3-400*x*y + 2*x-2\n",
    "    dy= 200*(y-x**2)\n",
    "    return np.squeeze(np.stack((dx, dy), axis=-1))\n",
    "         \n",
    "if __name__ == \"__main__\":\n",
    "    x, y =  np.mgrid[-2:4:81j, -2:4:81j]\n",
    "    v = rosenbrock(x, y)\n",
    "    plt.contour(x, y, v)\n",
    "    plt.show()\n",
    "    #   plot_rosenbrock(x, y, v)    \n",
    "    # (1,1) is the unique minimizer by solving gradient equation.\n",
    "    # the returned gradient should be (0,0)\n",
    "    gradient = rosenbrock_gradient(x,y)\n",
    "    print(rosenbrock_gradient(x,y))\n",
    "    # At this point the Hessian should be positive definite.\n",
    "    # print(rosenbrock_hessian(1,1))\n",
    "        \n",
    "    "
   ]
  }
 ],
 "metadata": {
  "kernelspec": {
   "display_name": "Python 3",
   "language": "python",
   "name": "python3"
  },
  "language_info": {
   "codemirror_mode": {
    "name": "ipython",
    "version": 3
   },
   "file_extension": ".py",
   "mimetype": "text/x-python",
   "name": "python",
   "nbconvert_exporter": "python",
   "pygments_lexer": "ipython3",
   "version": "3.7.0"
  }
 },
 "nbformat": 4,
 "nbformat_minor": 2
}
